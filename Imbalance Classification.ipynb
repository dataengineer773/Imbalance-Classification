{
 "cells": [
  {
   "cell_type": "code",
   "execution_count": 1,
   "id": "efde6202",
   "metadata": {},
   "outputs": [],
   "source": [
    "import numpy as np\n",
    "import pandas as pd\n",
    "\n",
    "import seaborn as sns\n",
    "import matplotlib.pyplot as plt"
   ]
  },
  {
   "cell_type": "markdown",
   "id": "032dc811",
   "metadata": {},
   "source": [
    "Coronavirus disease (COVID-19) is an infectious disease caused by a newly discovered coronavirus. Most people infected with COVID-19 virus will experience mild to moderate respiratory illness and recover without requiring special treatment. Older people, and those with underlying medical problems like cardiovascular disease, diabetes, chronic respiratory disease, and cancer are more likely to develop serious illness.\n",
    "During the entire course of the pandemic, one of the main problems that healthcare providers have faced is the shortage of medical resources and a proper plan to efficiently distribute them. In these tough times, being able to predict what kind of resource an individual might require at the time of being tested positive or even before that will be of immense help to the authorities as they would be able to procure and arrange for the resources necessary to save the life of that patient.\n",
    "\n",
    "The main goal of this project is to build a machine learning model that, given a Covid-19 patient's current symptom, status, and medical history, will predict whether the patient is in high risk or not.\n",
    "\n",
    "content\n",
    "The dataset was provided by the Mexican government (link). This dataset contains an enormous number of anonymized patient-related information including pre-conditions. The raw dataset consists of 21 unique features and 1,048,576 unique patients. In the Boolean features, 1 means \"yes\" and 2 means \"no\". values as **97 -- 99** are *missing* data.\n",
    "\n",
    "- sex: 1 for female and 2 for male.\n",
    "- age: of the patient.\n",
    "- classification: covid test findings. Values 1-3 mean that the patient was diagnosed with covid in different degrees. 4 or higher means that the patient is not a carrier of covid or that the test is inconclusive.\n",
    "- patient type: type of care the patient received in the unit. 1 for returned home and 2 for hospitalization.\n",
    "- pneumonia: whether the patient already have air sacs inflammation or not.\n",
    "- pregnancy: whether the patient is pregnant or not.\n",
    "- diabetes: whether the patient has diabetes or not.\n",
    "- copd: Indicates whether the patient has Chronic obstructive pulmonary disease or not.\n",
    "- asthma: whether the patient has asthma or not.\n",
    "- inmsupr: whether the patient is immunosuppressed or not.\n",
    "- hypertension: whether the patient has hypertension or not.\n",
    "- cardiovascular: whether the patient has heart or blood vessels related disease.\n",
    "- renal chronic: whether the patient has chronic renal disease or not.\n",
    "- other disease: whether the patient has other disease or not.\n",
    "- obesity: whether the patient is obese or not.\n",
    "- tobacco: whether the patient is a tobacco user.\n",
    "- usmr: Indicates whether the patient treated medical units of the first, second or third level.\n",
    "- medical unit: type of institution of the National Health System that provided the care.\n",
    "- intubed: whether the patient was connected to the ventilator.\n",
    "- icu: Indicates whether the patient had been admitted to an Intensive Care Unit.\n",
    "- date died: If the patient died indicate the date of death, and 9999-99-99 otherwise."
   ]
  },
  {
   "cell_type": "code",
   "execution_count": 2,
   "id": "985e9e23",
   "metadata": {},
   "outputs": [
    {
     "data": {
      "text/html": [
       "<div>\n",
       "<style scoped>\n",
       "    .dataframe tbody tr th:only-of-type {\n",
       "        vertical-align: middle;\n",
       "    }\n",
       "\n",
       "    .dataframe tbody tr th {\n",
       "        vertical-align: top;\n",
       "    }\n",
       "\n",
       "    .dataframe thead th {\n",
       "        text-align: right;\n",
       "    }\n",
       "</style>\n",
       "<table border=\"1\" class=\"dataframe\">\n",
       "  <thead>\n",
       "    <tr style=\"text-align: right;\">\n",
       "      <th></th>\n",
       "      <th>USMER</th>\n",
       "      <th>MEDICAL_UNIT</th>\n",
       "      <th>SEX</th>\n",
       "      <th>PATIENT_TYPE</th>\n",
       "      <th>DATE_DIED</th>\n",
       "      <th>INTUBED</th>\n",
       "      <th>PNEUMONIA</th>\n",
       "      <th>AGE</th>\n",
       "      <th>PREGNANT</th>\n",
       "      <th>DIABETES</th>\n",
       "      <th>...</th>\n",
       "      <th>ASTHMA</th>\n",
       "      <th>INMSUPR</th>\n",
       "      <th>HIPERTENSION</th>\n",
       "      <th>OTHER_DISEASE</th>\n",
       "      <th>CARDIOVASCULAR</th>\n",
       "      <th>OBESITY</th>\n",
       "      <th>RENAL_CHRONIC</th>\n",
       "      <th>TOBACCO</th>\n",
       "      <th>CLASIFFICATION_FINAL</th>\n",
       "      <th>ICU</th>\n",
       "    </tr>\n",
       "  </thead>\n",
       "  <tbody>\n",
       "    <tr>\n",
       "      <th>0</th>\n",
       "      <td>2</td>\n",
       "      <td>1</td>\n",
       "      <td>1</td>\n",
       "      <td>1</td>\n",
       "      <td>03/05/2020</td>\n",
       "      <td>97</td>\n",
       "      <td>1</td>\n",
       "      <td>65</td>\n",
       "      <td>2</td>\n",
       "      <td>2</td>\n",
       "      <td>...</td>\n",
       "      <td>2</td>\n",
       "      <td>2</td>\n",
       "      <td>1</td>\n",
       "      <td>2</td>\n",
       "      <td>2</td>\n",
       "      <td>2</td>\n",
       "      <td>2</td>\n",
       "      <td>2</td>\n",
       "      <td>3</td>\n",
       "      <td>97</td>\n",
       "    </tr>\n",
       "    <tr>\n",
       "      <th>1</th>\n",
       "      <td>2</td>\n",
       "      <td>1</td>\n",
       "      <td>2</td>\n",
       "      <td>1</td>\n",
       "      <td>03/06/2020</td>\n",
       "      <td>97</td>\n",
       "      <td>1</td>\n",
       "      <td>72</td>\n",
       "      <td>97</td>\n",
       "      <td>2</td>\n",
       "      <td>...</td>\n",
       "      <td>2</td>\n",
       "      <td>2</td>\n",
       "      <td>1</td>\n",
       "      <td>2</td>\n",
       "      <td>2</td>\n",
       "      <td>1</td>\n",
       "      <td>1</td>\n",
       "      <td>2</td>\n",
       "      <td>5</td>\n",
       "      <td>97</td>\n",
       "    </tr>\n",
       "    <tr>\n",
       "      <th>2</th>\n",
       "      <td>2</td>\n",
       "      <td>1</td>\n",
       "      <td>2</td>\n",
       "      <td>2</td>\n",
       "      <td>09/06/2020</td>\n",
       "      <td>1</td>\n",
       "      <td>2</td>\n",
       "      <td>55</td>\n",
       "      <td>97</td>\n",
       "      <td>1</td>\n",
       "      <td>...</td>\n",
       "      <td>2</td>\n",
       "      <td>2</td>\n",
       "      <td>2</td>\n",
       "      <td>2</td>\n",
       "      <td>2</td>\n",
       "      <td>2</td>\n",
       "      <td>2</td>\n",
       "      <td>2</td>\n",
       "      <td>3</td>\n",
       "      <td>2</td>\n",
       "    </tr>\n",
       "    <tr>\n",
       "      <th>3</th>\n",
       "      <td>2</td>\n",
       "      <td>1</td>\n",
       "      <td>1</td>\n",
       "      <td>1</td>\n",
       "      <td>12/06/2020</td>\n",
       "      <td>97</td>\n",
       "      <td>2</td>\n",
       "      <td>53</td>\n",
       "      <td>2</td>\n",
       "      <td>2</td>\n",
       "      <td>...</td>\n",
       "      <td>2</td>\n",
       "      <td>2</td>\n",
       "      <td>2</td>\n",
       "      <td>2</td>\n",
       "      <td>2</td>\n",
       "      <td>2</td>\n",
       "      <td>2</td>\n",
       "      <td>2</td>\n",
       "      <td>7</td>\n",
       "      <td>97</td>\n",
       "    </tr>\n",
       "    <tr>\n",
       "      <th>4</th>\n",
       "      <td>2</td>\n",
       "      <td>1</td>\n",
       "      <td>2</td>\n",
       "      <td>1</td>\n",
       "      <td>21/06/2020</td>\n",
       "      <td>97</td>\n",
       "      <td>2</td>\n",
       "      <td>68</td>\n",
       "      <td>97</td>\n",
       "      <td>1</td>\n",
       "      <td>...</td>\n",
       "      <td>2</td>\n",
       "      <td>2</td>\n",
       "      <td>1</td>\n",
       "      <td>2</td>\n",
       "      <td>2</td>\n",
       "      <td>2</td>\n",
       "      <td>2</td>\n",
       "      <td>2</td>\n",
       "      <td>3</td>\n",
       "      <td>97</td>\n",
       "    </tr>\n",
       "    <tr>\n",
       "      <th>...</th>\n",
       "      <td>...</td>\n",
       "      <td>...</td>\n",
       "      <td>...</td>\n",
       "      <td>...</td>\n",
       "      <td>...</td>\n",
       "      <td>...</td>\n",
       "      <td>...</td>\n",
       "      <td>...</td>\n",
       "      <td>...</td>\n",
       "      <td>...</td>\n",
       "      <td>...</td>\n",
       "      <td>...</td>\n",
       "      <td>...</td>\n",
       "      <td>...</td>\n",
       "      <td>...</td>\n",
       "      <td>...</td>\n",
       "      <td>...</td>\n",
       "      <td>...</td>\n",
       "      <td>...</td>\n",
       "      <td>...</td>\n",
       "      <td>...</td>\n",
       "    </tr>\n",
       "    <tr>\n",
       "      <th>1048570</th>\n",
       "      <td>2</td>\n",
       "      <td>13</td>\n",
       "      <td>2</td>\n",
       "      <td>1</td>\n",
       "      <td>9999-99-99</td>\n",
       "      <td>97</td>\n",
       "      <td>2</td>\n",
       "      <td>40</td>\n",
       "      <td>97</td>\n",
       "      <td>2</td>\n",
       "      <td>...</td>\n",
       "      <td>2</td>\n",
       "      <td>2</td>\n",
       "      <td>2</td>\n",
       "      <td>2</td>\n",
       "      <td>2</td>\n",
       "      <td>2</td>\n",
       "      <td>2</td>\n",
       "      <td>2</td>\n",
       "      <td>7</td>\n",
       "      <td>97</td>\n",
       "    </tr>\n",
       "    <tr>\n",
       "      <th>1048571</th>\n",
       "      <td>1</td>\n",
       "      <td>13</td>\n",
       "      <td>2</td>\n",
       "      <td>2</td>\n",
       "      <td>9999-99-99</td>\n",
       "      <td>2</td>\n",
       "      <td>2</td>\n",
       "      <td>51</td>\n",
       "      <td>97</td>\n",
       "      <td>2</td>\n",
       "      <td>...</td>\n",
       "      <td>2</td>\n",
       "      <td>2</td>\n",
       "      <td>1</td>\n",
       "      <td>2</td>\n",
       "      <td>2</td>\n",
       "      <td>2</td>\n",
       "      <td>2</td>\n",
       "      <td>2</td>\n",
       "      <td>7</td>\n",
       "      <td>2</td>\n",
       "    </tr>\n",
       "    <tr>\n",
       "      <th>1048572</th>\n",
       "      <td>2</td>\n",
       "      <td>13</td>\n",
       "      <td>2</td>\n",
       "      <td>1</td>\n",
       "      <td>9999-99-99</td>\n",
       "      <td>97</td>\n",
       "      <td>2</td>\n",
       "      <td>55</td>\n",
       "      <td>97</td>\n",
       "      <td>2</td>\n",
       "      <td>...</td>\n",
       "      <td>2</td>\n",
       "      <td>2</td>\n",
       "      <td>2</td>\n",
       "      <td>2</td>\n",
       "      <td>2</td>\n",
       "      <td>2</td>\n",
       "      <td>2</td>\n",
       "      <td>2</td>\n",
       "      <td>7</td>\n",
       "      <td>97</td>\n",
       "    </tr>\n",
       "    <tr>\n",
       "      <th>1048573</th>\n",
       "      <td>2</td>\n",
       "      <td>13</td>\n",
       "      <td>2</td>\n",
       "      <td>1</td>\n",
       "      <td>9999-99-99</td>\n",
       "      <td>97</td>\n",
       "      <td>2</td>\n",
       "      <td>28</td>\n",
       "      <td>97</td>\n",
       "      <td>2</td>\n",
       "      <td>...</td>\n",
       "      <td>2</td>\n",
       "      <td>2</td>\n",
       "      <td>2</td>\n",
       "      <td>2</td>\n",
       "      <td>2</td>\n",
       "      <td>2</td>\n",
       "      <td>2</td>\n",
       "      <td>2</td>\n",
       "      <td>7</td>\n",
       "      <td>97</td>\n",
       "    </tr>\n",
       "    <tr>\n",
       "      <th>1048574</th>\n",
       "      <td>2</td>\n",
       "      <td>13</td>\n",
       "      <td>2</td>\n",
       "      <td>1</td>\n",
       "      <td>9999-99-99</td>\n",
       "      <td>97</td>\n",
       "      <td>2</td>\n",
       "      <td>52</td>\n",
       "      <td>97</td>\n",
       "      <td>2</td>\n",
       "      <td>...</td>\n",
       "      <td>2</td>\n",
       "      <td>2</td>\n",
       "      <td>2</td>\n",
       "      <td>2</td>\n",
       "      <td>2</td>\n",
       "      <td>2</td>\n",
       "      <td>2</td>\n",
       "      <td>2</td>\n",
       "      <td>7</td>\n",
       "      <td>97</td>\n",
       "    </tr>\n",
       "  </tbody>\n",
       "</table>\n",
       "<p>1048575 rows × 21 columns</p>\n",
       "</div>"
      ],
      "text/plain": [
       "         USMER  MEDICAL_UNIT  SEX  PATIENT_TYPE   DATE_DIED  INTUBED  \\\n",
       "0            2             1    1             1  03/05/2020       97   \n",
       "1            2             1    2             1  03/06/2020       97   \n",
       "2            2             1    2             2  09/06/2020        1   \n",
       "3            2             1    1             1  12/06/2020       97   \n",
       "4            2             1    2             1  21/06/2020       97   \n",
       "...        ...           ...  ...           ...         ...      ...   \n",
       "1048570      2            13    2             1  9999-99-99       97   \n",
       "1048571      1            13    2             2  9999-99-99        2   \n",
       "1048572      2            13    2             1  9999-99-99       97   \n",
       "1048573      2            13    2             1  9999-99-99       97   \n",
       "1048574      2            13    2             1  9999-99-99       97   \n",
       "\n",
       "         PNEUMONIA  AGE  PREGNANT  DIABETES  ...  ASTHMA  INMSUPR  \\\n",
       "0                1   65         2         2  ...       2        2   \n",
       "1                1   72        97         2  ...       2        2   \n",
       "2                2   55        97         1  ...       2        2   \n",
       "3                2   53         2         2  ...       2        2   \n",
       "4                2   68        97         1  ...       2        2   \n",
       "...            ...  ...       ...       ...  ...     ...      ...   \n",
       "1048570          2   40        97         2  ...       2        2   \n",
       "1048571          2   51        97         2  ...       2        2   \n",
       "1048572          2   55        97         2  ...       2        2   \n",
       "1048573          2   28        97         2  ...       2        2   \n",
       "1048574          2   52        97         2  ...       2        2   \n",
       "\n",
       "         HIPERTENSION  OTHER_DISEASE  CARDIOVASCULAR  OBESITY  RENAL_CHRONIC  \\\n",
       "0                   1              2               2        2              2   \n",
       "1                   1              2               2        1              1   \n",
       "2                   2              2               2        2              2   \n",
       "3                   2              2               2        2              2   \n",
       "4                   1              2               2        2              2   \n",
       "...               ...            ...             ...      ...            ...   \n",
       "1048570             2              2               2        2              2   \n",
       "1048571             1              2               2        2              2   \n",
       "1048572             2              2               2        2              2   \n",
       "1048573             2              2               2        2              2   \n",
       "1048574             2              2               2        2              2   \n",
       "\n",
       "         TOBACCO  CLASIFFICATION_FINAL  ICU  \n",
       "0              2                     3   97  \n",
       "1              2                     5   97  \n",
       "2              2                     3    2  \n",
       "3              2                     7   97  \n",
       "4              2                     3   97  \n",
       "...          ...                   ...  ...  \n",
       "1048570        2                     7   97  \n",
       "1048571        2                     7    2  \n",
       "1048572        2                     7   97  \n",
       "1048573        2                     7   97  \n",
       "1048574        2                     7   97  \n",
       "\n",
       "[1048575 rows x 21 columns]"
      ]
     },
     "execution_count": 2,
     "metadata": {},
     "output_type": "execute_result"
    }
   ],
   "source": [
    "# https://datos.gob.mx/busca/dataset/informacion-referente-a-casos-covid-19-en-mexico\n",
    "\n",
    "data = pd.read_csv('../_data/Covid Data.csv')\n",
    "data"
   ]
  },
  {
   "cell_type": "code",
   "execution_count": 3,
   "id": "5128a597",
   "metadata": {},
   "outputs": [
    {
     "name": "stdout",
     "output_type": "stream",
     "text": [
      "<class 'pandas.core.frame.DataFrame'>\n",
      "RangeIndex: 1048575 entries, 0 to 1048574\n",
      "Data columns (total 21 columns):\n",
      " #   Column                Non-Null Count    Dtype \n",
      "---  ------                --------------    ----- \n",
      " 0   USMER                 1048575 non-null  int64 \n",
      " 1   MEDICAL_UNIT          1048575 non-null  int64 \n",
      " 2   SEX                   1048575 non-null  int64 \n",
      " 3   PATIENT_TYPE          1048575 non-null  int64 \n",
      " 4   DATE_DIED             1048575 non-null  object\n",
      " 5   INTUBED               1048575 non-null  int64 \n",
      " 6   PNEUMONIA             1048575 non-null  int64 \n",
      " 7   AGE                   1048575 non-null  int64 \n",
      " 8   PREGNANT              1048575 non-null  int64 \n",
      " 9   DIABETES              1048575 non-null  int64 \n",
      " 10  COPD                  1048575 non-null  int64 \n",
      " 11  ASTHMA                1048575 non-null  int64 \n",
      " 12  INMSUPR               1048575 non-null  int64 \n",
      " 13  HIPERTENSION          1048575 non-null  int64 \n",
      " 14  OTHER_DISEASE         1048575 non-null  int64 \n",
      " 15  CARDIOVASCULAR        1048575 non-null  int64 \n",
      " 16  OBESITY               1048575 non-null  int64 \n",
      " 17  RENAL_CHRONIC         1048575 non-null  int64 \n",
      " 18  TOBACCO               1048575 non-null  int64 \n",
      " 19  CLASIFFICATION_FINAL  1048575 non-null  int64 \n",
      " 20  ICU                   1048575 non-null  int64 \n",
      "dtypes: int64(20), object(1)\n",
      "memory usage: 168.0+ MB\n"
     ]
    }
   ],
   "source": [
    "data.info()"
   ]
  },
  {
   "cell_type": "code",
   "execution_count": 4,
   "id": "7ee88f7f",
   "metadata": {},
   "outputs": [
    {
     "data": {
      "text/plain": [
       "USMER                     2\n",
       "MEDICAL_UNIT             13\n",
       "SEX                       2\n",
       "PATIENT_TYPE              2\n",
       "DATE_DIED               401\n",
       "INTUBED                   4\n",
       "PNEUMONIA                 3\n",
       "AGE                     121\n",
       "PREGNANT                  4\n",
       "DIABETES                  3\n",
       "COPD                      3\n",
       "ASTHMA                    3\n",
       "INMSUPR                   3\n",
       "HIPERTENSION              3\n",
       "OTHER_DISEASE             3\n",
       "CARDIOVASCULAR            3\n",
       "OBESITY                   3\n",
       "RENAL_CHRONIC             3\n",
       "TOBACCO                   3\n",
       "CLASIFFICATION_FINAL      7\n",
       "ICU                       4\n",
       "dtype: int64"
      ]
     },
     "execution_count": 4,
     "metadata": {},
     "output_type": "execute_result"
    }
   ],
   "source": [
    "data.nunique()"
   ]
  },
  {
   "cell_type": "code",
   "execution_count": 5,
   "id": "ee1e1f57",
   "metadata": {},
   "outputs": [],
   "source": [
    "data['DEATH'] = (data['DATE_DIED'] != '9999-99-99').map({True:1, False:0})"
   ]
  },
  {
   "cell_type": "markdown",
   "id": "1e7659e6",
   "metadata": {},
   "source": [
    "# Preprocessing:\n",
    "\n",
    "In the Boolean features, 1 means \"yes\" and 2 means \"no\". values as 97 -- 99 are missing data."
   ]
  },
  {
   "cell_type": "code",
   "execution_count": 6,
   "id": "0bb6b85d",
   "metadata": {},
   "outputs": [],
   "source": [
    "for col in data.columns:\n",
    "    if not(col in ['DATE_DIED', 'AGE', 'MEDICAL_UNIT', 'CLASIFFICATION_FINAL', 'DEATH']):\n",
    "        data.loc[data[col] == 97, col] = np.nan\n",
    "        data.loc[data[col] == 98, col] = np.nan\n",
    "        data.loc[data[col] == 99, col] = np.nan\n",
    "        \n",
    "        data[col] = data[col].map({1:1, 2:0})"
   ]
  },
  {
   "cell_type": "code",
   "execution_count": 7,
   "id": "e5a6636b",
   "metadata": {},
   "outputs": [
    {
     "data": {
      "text/plain": [
       "USMER                    0.000000\n",
       "MEDICAL_UNIT             0.000000\n",
       "SEX                      0.000000\n",
       "PATIENT_TYPE             0.000000\n",
       "DATE_DIED                0.000000\n",
       "INTUBED                 81.622106\n",
       "PNEUMONIA                1.526166\n",
       "AGE                      0.000000\n",
       "PREGNANT                50.283957\n",
       "DIABETES                 0.318337\n",
       "COPD                     0.286389\n",
       "ASTHMA                   0.284100\n",
       "INMSUPR                  0.324631\n",
       "HIPERTENSION             0.296021\n",
       "OTHER_DISEASE            0.481129\n",
       "CARDIOVASCULAR           0.293350\n",
       "OBESITY                  0.289154\n",
       "RENAL_CHRONIC            0.286675\n",
       "TOBACCO                  0.307083\n",
       "CLASIFFICATION_FINAL     0.000000\n",
       "ICU                     81.637651\n",
       "DEATH                    0.000000\n",
       "dtype: float64"
      ]
     },
     "execution_count": 7,
     "metadata": {},
     "output_type": "execute_result"
    }
   ],
   "source": [
    "data.isna().sum() / data.shape[0] * 100"
   ]
  },
  {
   "cell_type": "code",
   "execution_count": 8,
   "id": "d886e967",
   "metadata": {},
   "outputs": [
    {
     "name": "stdout",
     "output_type": "stream",
     "text": [
      "0.7838424055146185\n"
     ]
    }
   ],
   "source": [
    "intubed = data[(data['INTUBED'] == 1)].shape[0]\n",
    "intubed_death = data[(data['INTUBED'] == 1) & (data['DEATH'] == 1)].shape[0]\n",
    "print(intubed_death/intubed)"
   ]
  },
  {
   "cell_type": "code",
   "execution_count": 9,
   "id": "fb200064",
   "metadata": {},
   "outputs": [
    {
     "data": {
      "text/html": [
       "<div>\n",
       "<style scoped>\n",
       "    .dataframe tbody tr th:only-of-type {\n",
       "        vertical-align: middle;\n",
       "    }\n",
       "\n",
       "    .dataframe tbody tr th {\n",
       "        vertical-align: top;\n",
       "    }\n",
       "\n",
       "    .dataframe thead th {\n",
       "        text-align: right;\n",
       "    }\n",
       "</style>\n",
       "<table border=\"1\" class=\"dataframe\">\n",
       "  <thead>\n",
       "    <tr style=\"text-align: right;\">\n",
       "      <th></th>\n",
       "      <th>USMER</th>\n",
       "      <th>MEDICAL_UNIT</th>\n",
       "      <th>SEX</th>\n",
       "      <th>PATIENT_TYPE</th>\n",
       "      <th>DATE_DIED</th>\n",
       "      <th>INTUBED</th>\n",
       "      <th>PNEUMONIA</th>\n",
       "      <th>AGE</th>\n",
       "      <th>DIABETES</th>\n",
       "      <th>COPD</th>\n",
       "      <th>ASTHMA</th>\n",
       "      <th>INMSUPR</th>\n",
       "      <th>HIPERTENSION</th>\n",
       "      <th>OTHER_DISEASE</th>\n",
       "      <th>CARDIOVASCULAR</th>\n",
       "      <th>OBESITY</th>\n",
       "      <th>RENAL_CHRONIC</th>\n",
       "      <th>TOBACCO</th>\n",
       "      <th>CLASIFFICATION_FINAL</th>\n",
       "      <th>DEATH</th>\n",
       "    </tr>\n",
       "  </thead>\n",
       "  <tbody>\n",
       "    <tr>\n",
       "      <th>0</th>\n",
       "      <td>0</td>\n",
       "      <td>1</td>\n",
       "      <td>1</td>\n",
       "      <td>1</td>\n",
       "      <td>03/05/2020</td>\n",
       "      <td>-1.0</td>\n",
       "      <td>1.0</td>\n",
       "      <td>65</td>\n",
       "      <td>0.0</td>\n",
       "      <td>0.0</td>\n",
       "      <td>0.0</td>\n",
       "      <td>0.0</td>\n",
       "      <td>1.0</td>\n",
       "      <td>0.0</td>\n",
       "      <td>0.0</td>\n",
       "      <td>0.0</td>\n",
       "      <td>0.0</td>\n",
       "      <td>0.0</td>\n",
       "      <td>3</td>\n",
       "      <td>1</td>\n",
       "    </tr>\n",
       "    <tr>\n",
       "      <th>1</th>\n",
       "      <td>0</td>\n",
       "      <td>1</td>\n",
       "      <td>0</td>\n",
       "      <td>1</td>\n",
       "      <td>03/06/2020</td>\n",
       "      <td>-1.0</td>\n",
       "      <td>1.0</td>\n",
       "      <td>72</td>\n",
       "      <td>0.0</td>\n",
       "      <td>0.0</td>\n",
       "      <td>0.0</td>\n",
       "      <td>0.0</td>\n",
       "      <td>1.0</td>\n",
       "      <td>0.0</td>\n",
       "      <td>0.0</td>\n",
       "      <td>1.0</td>\n",
       "      <td>1.0</td>\n",
       "      <td>0.0</td>\n",
       "      <td>5</td>\n",
       "      <td>1</td>\n",
       "    </tr>\n",
       "    <tr>\n",
       "      <th>2</th>\n",
       "      <td>0</td>\n",
       "      <td>1</td>\n",
       "      <td>0</td>\n",
       "      <td>0</td>\n",
       "      <td>09/06/2020</td>\n",
       "      <td>1.0</td>\n",
       "      <td>0.0</td>\n",
       "      <td>55</td>\n",
       "      <td>1.0</td>\n",
       "      <td>0.0</td>\n",
       "      <td>0.0</td>\n",
       "      <td>0.0</td>\n",
       "      <td>0.0</td>\n",
       "      <td>0.0</td>\n",
       "      <td>0.0</td>\n",
       "      <td>0.0</td>\n",
       "      <td>0.0</td>\n",
       "      <td>0.0</td>\n",
       "      <td>3</td>\n",
       "      <td>1</td>\n",
       "    </tr>\n",
       "    <tr>\n",
       "      <th>3</th>\n",
       "      <td>0</td>\n",
       "      <td>1</td>\n",
       "      <td>1</td>\n",
       "      <td>1</td>\n",
       "      <td>12/06/2020</td>\n",
       "      <td>-1.0</td>\n",
       "      <td>0.0</td>\n",
       "      <td>53</td>\n",
       "      <td>0.0</td>\n",
       "      <td>0.0</td>\n",
       "      <td>0.0</td>\n",
       "      <td>0.0</td>\n",
       "      <td>0.0</td>\n",
       "      <td>0.0</td>\n",
       "      <td>0.0</td>\n",
       "      <td>0.0</td>\n",
       "      <td>0.0</td>\n",
       "      <td>0.0</td>\n",
       "      <td>7</td>\n",
       "      <td>1</td>\n",
       "    </tr>\n",
       "    <tr>\n",
       "      <th>4</th>\n",
       "      <td>0</td>\n",
       "      <td>1</td>\n",
       "      <td>0</td>\n",
       "      <td>1</td>\n",
       "      <td>21/06/2020</td>\n",
       "      <td>-1.0</td>\n",
       "      <td>0.0</td>\n",
       "      <td>68</td>\n",
       "      <td>1.0</td>\n",
       "      <td>0.0</td>\n",
       "      <td>0.0</td>\n",
       "      <td>0.0</td>\n",
       "      <td>1.0</td>\n",
       "      <td>0.0</td>\n",
       "      <td>0.0</td>\n",
       "      <td>0.0</td>\n",
       "      <td>0.0</td>\n",
       "      <td>0.0</td>\n",
       "      <td>3</td>\n",
       "      <td>1</td>\n",
       "    </tr>\n",
       "    <tr>\n",
       "      <th>...</th>\n",
       "      <td>...</td>\n",
       "      <td>...</td>\n",
       "      <td>...</td>\n",
       "      <td>...</td>\n",
       "      <td>...</td>\n",
       "      <td>...</td>\n",
       "      <td>...</td>\n",
       "      <td>...</td>\n",
       "      <td>...</td>\n",
       "      <td>...</td>\n",
       "      <td>...</td>\n",
       "      <td>...</td>\n",
       "      <td>...</td>\n",
       "      <td>...</td>\n",
       "      <td>...</td>\n",
       "      <td>...</td>\n",
       "      <td>...</td>\n",
       "      <td>...</td>\n",
       "      <td>...</td>\n",
       "      <td>...</td>\n",
       "    </tr>\n",
       "    <tr>\n",
       "      <th>1025147</th>\n",
       "      <td>0</td>\n",
       "      <td>13</td>\n",
       "      <td>0</td>\n",
       "      <td>1</td>\n",
       "      <td>9999-99-99</td>\n",
       "      <td>-1.0</td>\n",
       "      <td>0.0</td>\n",
       "      <td>40</td>\n",
       "      <td>0.0</td>\n",
       "      <td>0.0</td>\n",
       "      <td>0.0</td>\n",
       "      <td>0.0</td>\n",
       "      <td>0.0</td>\n",
       "      <td>0.0</td>\n",
       "      <td>0.0</td>\n",
       "      <td>0.0</td>\n",
       "      <td>0.0</td>\n",
       "      <td>0.0</td>\n",
       "      <td>7</td>\n",
       "      <td>0</td>\n",
       "    </tr>\n",
       "    <tr>\n",
       "      <th>1025148</th>\n",
       "      <td>1</td>\n",
       "      <td>13</td>\n",
       "      <td>0</td>\n",
       "      <td>0</td>\n",
       "      <td>9999-99-99</td>\n",
       "      <td>0.0</td>\n",
       "      <td>0.0</td>\n",
       "      <td>51</td>\n",
       "      <td>0.0</td>\n",
       "      <td>0.0</td>\n",
       "      <td>0.0</td>\n",
       "      <td>0.0</td>\n",
       "      <td>1.0</td>\n",
       "      <td>0.0</td>\n",
       "      <td>0.0</td>\n",
       "      <td>0.0</td>\n",
       "      <td>0.0</td>\n",
       "      <td>0.0</td>\n",
       "      <td>7</td>\n",
       "      <td>0</td>\n",
       "    </tr>\n",
       "    <tr>\n",
       "      <th>1025149</th>\n",
       "      <td>0</td>\n",
       "      <td>13</td>\n",
       "      <td>0</td>\n",
       "      <td>1</td>\n",
       "      <td>9999-99-99</td>\n",
       "      <td>-1.0</td>\n",
       "      <td>0.0</td>\n",
       "      <td>55</td>\n",
       "      <td>0.0</td>\n",
       "      <td>0.0</td>\n",
       "      <td>0.0</td>\n",
       "      <td>0.0</td>\n",
       "      <td>0.0</td>\n",
       "      <td>0.0</td>\n",
       "      <td>0.0</td>\n",
       "      <td>0.0</td>\n",
       "      <td>0.0</td>\n",
       "      <td>0.0</td>\n",
       "      <td>7</td>\n",
       "      <td>0</td>\n",
       "    </tr>\n",
       "    <tr>\n",
       "      <th>1025150</th>\n",
       "      <td>0</td>\n",
       "      <td>13</td>\n",
       "      <td>0</td>\n",
       "      <td>1</td>\n",
       "      <td>9999-99-99</td>\n",
       "      <td>-1.0</td>\n",
       "      <td>0.0</td>\n",
       "      <td>28</td>\n",
       "      <td>0.0</td>\n",
       "      <td>0.0</td>\n",
       "      <td>0.0</td>\n",
       "      <td>0.0</td>\n",
       "      <td>0.0</td>\n",
       "      <td>0.0</td>\n",
       "      <td>0.0</td>\n",
       "      <td>0.0</td>\n",
       "      <td>0.0</td>\n",
       "      <td>0.0</td>\n",
       "      <td>7</td>\n",
       "      <td>0</td>\n",
       "    </tr>\n",
       "    <tr>\n",
       "      <th>1025151</th>\n",
       "      <td>0</td>\n",
       "      <td>13</td>\n",
       "      <td>0</td>\n",
       "      <td>1</td>\n",
       "      <td>9999-99-99</td>\n",
       "      <td>-1.0</td>\n",
       "      <td>0.0</td>\n",
       "      <td>52</td>\n",
       "      <td>0.0</td>\n",
       "      <td>0.0</td>\n",
       "      <td>0.0</td>\n",
       "      <td>0.0</td>\n",
       "      <td>0.0</td>\n",
       "      <td>0.0</td>\n",
       "      <td>0.0</td>\n",
       "      <td>0.0</td>\n",
       "      <td>0.0</td>\n",
       "      <td>0.0</td>\n",
       "      <td>7</td>\n",
       "      <td>0</td>\n",
       "    </tr>\n",
       "  </tbody>\n",
       "</table>\n",
       "<p>1025152 rows × 20 columns</p>\n",
       "</div>"
      ],
      "text/plain": [
       "         USMER  MEDICAL_UNIT  SEX  PATIENT_TYPE   DATE_DIED  INTUBED  \\\n",
       "0            0             1    1             1  03/05/2020     -1.0   \n",
       "1            0             1    0             1  03/06/2020     -1.0   \n",
       "2            0             1    0             0  09/06/2020      1.0   \n",
       "3            0             1    1             1  12/06/2020     -1.0   \n",
       "4            0             1    0             1  21/06/2020     -1.0   \n",
       "...        ...           ...  ...           ...         ...      ...   \n",
       "1025147      0            13    0             1  9999-99-99     -1.0   \n",
       "1025148      1            13    0             0  9999-99-99      0.0   \n",
       "1025149      0            13    0             1  9999-99-99     -1.0   \n",
       "1025150      0            13    0             1  9999-99-99     -1.0   \n",
       "1025151      0            13    0             1  9999-99-99     -1.0   \n",
       "\n",
       "         PNEUMONIA  AGE  DIABETES  COPD  ASTHMA  INMSUPR  HIPERTENSION  \\\n",
       "0              1.0   65       0.0   0.0     0.0      0.0           1.0   \n",
       "1              1.0   72       0.0   0.0     0.0      0.0           1.0   \n",
       "2              0.0   55       1.0   0.0     0.0      0.0           0.0   \n",
       "3              0.0   53       0.0   0.0     0.0      0.0           0.0   \n",
       "4              0.0   68       1.0   0.0     0.0      0.0           1.0   \n",
       "...            ...  ...       ...   ...     ...      ...           ...   \n",
       "1025147        0.0   40       0.0   0.0     0.0      0.0           0.0   \n",
       "1025148        0.0   51       0.0   0.0     0.0      0.0           1.0   \n",
       "1025149        0.0   55       0.0   0.0     0.0      0.0           0.0   \n",
       "1025150        0.0   28       0.0   0.0     0.0      0.0           0.0   \n",
       "1025151        0.0   52       0.0   0.0     0.0      0.0           0.0   \n",
       "\n",
       "         OTHER_DISEASE  CARDIOVASCULAR  OBESITY  RENAL_CHRONIC  TOBACCO  \\\n",
       "0                  0.0             0.0      0.0            0.0      0.0   \n",
       "1                  0.0             0.0      1.0            1.0      0.0   \n",
       "2                  0.0             0.0      0.0            0.0      0.0   \n",
       "3                  0.0             0.0      0.0            0.0      0.0   \n",
       "4                  0.0             0.0      0.0            0.0      0.0   \n",
       "...                ...             ...      ...            ...      ...   \n",
       "1025147            0.0             0.0      0.0            0.0      0.0   \n",
       "1025148            0.0             0.0      0.0            0.0      0.0   \n",
       "1025149            0.0             0.0      0.0            0.0      0.0   \n",
       "1025150            0.0             0.0      0.0            0.0      0.0   \n",
       "1025151            0.0             0.0      0.0            0.0      0.0   \n",
       "\n",
       "         CLASIFFICATION_FINAL  DEATH  \n",
       "0                           3      1  \n",
       "1                           5      1  \n",
       "2                           3      1  \n",
       "3                           7      1  \n",
       "4                           3      1  \n",
       "...                       ...    ...  \n",
       "1025147                     7      0  \n",
       "1025148                     7      0  \n",
       "1025149                     7      0  \n",
       "1025150                     7      0  \n",
       "1025151                     7      0  \n",
       "\n",
       "[1025152 rows x 20 columns]"
      ]
     },
     "execution_count": 9,
     "metadata": {},
     "output_type": "execute_result"
    }
   ],
   "source": [
    "data.drop(columns=['ICU', 'PREGNANT'], inplace=True)\n",
    "data['INTUBED'] = data['INTUBED'].fillna(-1)\n",
    "data = data.dropna().reset_index(drop=True)\n",
    "data"
   ]
  },
  {
   "cell_type": "markdown",
   "id": "2eceec5c",
   "metadata": {},
   "source": [
    "# Data Visualization:"
   ]
  },
  {
   "cell_type": "code",
   "execution_count": 10,
   "id": "a30f1509",
   "metadata": {},
   "outputs": [
    {
     "data": {
      "image/png": "[encoded data removed]",
      "text/plain": [
       "<Figure size 640x480 with 1 Axes>"
      ]
     },
     "metadata": {},
     "output_type": "display_data"
    }
   ],
   "source": [
    "ax = sns.countplot(x='DEATH', data=data);\n",
    "ax.bar_label(ax.containers[0]);"
   ]
  },
  {
   "cell_type": "code",
   "execution_count": 11,
   "id": "c737f9bb",
   "metadata": {},
   "outputs": [
    {
     "data": {
      "image/png": "[encoded data removed]",
      "text/plain": [
       "<Figure size 640x480 with 1 Axes>"
      ]
     },
     "metadata": {},
     "output_type": "display_data"
    }
   ],
   "source": [
    "ax = sns.countplot(x='DEATH', data=data, hue='CLASIFFICATION_FINAL');\n",
    "# ax.bar_label(ax.containers[0]);\n",
    "# ax.bar_label(ax.containers[1]);\n",
    "# ax.bar_label(ax.containers[2]);\n",
    "# ax.bar_label(ax.containers[3]);\n",
    "# ax.bar_label(ax.containers[4]);\n",
    "# ax.bar_label(ax.containers[5]);\n",
    "# ax.bar_label(ax.containers[6]);"
   ]
  },
  {
   "cell_type": "code",
   "execution_count": 12,
   "id": "bd19920a",
   "metadata": {},
   "outputs": [
    {
     "data": {
      "image/png": "[encoded data removed]",
      "text/plain": [
       "<Figure size 640x480 with 1 Axes>"
      ]
     },
     "metadata": {},
     "output_type": "display_data"
    }
   ],
   "source": [
    "ax = sns.countplot(x='DEATH', data=data, hue='TOBACCO');"
   ]
  },
  {
   "cell_type": "code",
   "execution_count": 13,
   "id": "664832da",
   "metadata": {},
   "outputs": [
    {
     "data": {
      "image/png": "[encoded data removed]",
      "text/plain": [
       "<Figure size 640x480 with 1 Axes>"
      ]
     },
     "metadata": {},
     "output_type": "display_data"
    }
   ],
   "source": [
    "ax = sns.countplot(x='DEATH', data=data, hue='INTUBED');"
   ]
  },
  {
   "cell_type": "code",
   "execution_count": 14,
   "id": "0474d969",
   "metadata": {},
   "outputs": [
    {
     "data": {
      "text/plain": [
       "06/07/2020    984\n",
       "07/07/2020    981\n",
       "13/07/2020    969\n",
       "16/06/2020    965\n",
       "14/07/2020    921\n",
       "16/07/2020    920\n",
       "17/06/2020    914\n",
       "29/06/2020    913\n",
       "09/07/2020    911\n",
       "15/07/2020    907\n",
       "Name: DATE_DIED, dtype: int64"
      ]
     },
     "execution_count": 14,
     "metadata": {},
     "output_type": "execute_result"
    }
   ],
   "source": [
    "N = 10\n",
    "death = data['DATE_DIED'].value_counts().head(N+1).iloc[1:]\n",
    "death"
   ]
  },
  {
   "cell_type": "code",
   "execution_count": 15,
   "id": "a0e38e23",
   "metadata": {},
   "outputs": [
    {
     "data": {
      "text/plain": [
       "<BarContainer object of 10 artists>"
      ]
     },
     "execution_count": 15,
     "metadata": {},
     "output_type": "execute_result"
    },
    {
     "data": {
      "image/png": "[encoded data removed]",
      "text/plain": [
       "<Figure size 1200x600 with 1 Axes>"
      ]
     },
     "metadata": {},
     "output_type": "display_data"
    }
   ],
   "source": [
    "plt.figure(figsize=(12, 6))\n",
    "plt.bar(x=death.index, height=death.values)"
   ]
  },
  {
   "cell_type": "markdown",
   "id": "26465d48",
   "metadata": {},
   "source": [
    "# Imbalance Classification:"
   ]
  },
  {
   "cell_type": "code",
   "execution_count": 16,
   "id": "940493c0",
   "metadata": {},
   "outputs": [
    {
     "name": "stdout",
     "output_type": "stream",
     "text": [
      "Requirement already satisfied: imbalanced-learn in /Users/khamir/mambaforge/lib/python3.10/site-packages (0.10.1)\n",
      "Requirement already satisfied: scipy>=1.3.2 in /Users/khamir/mambaforge/lib/python3.10/site-packages (from imbalanced-learn) (1.9.3)\n",
      "Requirement already satisfied: numpy>=1.17.3 in /Users/khamir/mambaforge/lib/python3.10/site-packages (from imbalanced-learn) (1.24.2)\n",
      "Requirement already satisfied: joblib>=1.1.1 in /Users/khamir/mambaforge/lib/python3.10/site-packages (from imbalanced-learn) (1.2.0)\n",
      "Requirement already satisfied: threadpoolctl>=2.0.0 in /Users/khamir/mambaforge/lib/python3.10/site-packages (from imbalanced-learn) (3.1.0)\n",
      "Requirement already satisfied: scikit-learn>=1.0.2 in /Users/khamir/mambaforge/lib/python3.10/site-packages (from imbalanced-learn) (1.2.0)\n"
     ]
    }
   ],
   "source": [
    "! pip install -U imbalanced-learn"
   ]
  },
  {
   "cell_type": "code",
   "execution_count": 17,
   "id": "a3237a8f",
   "metadata": {},
   "outputs": [],
   "source": [
    "from imblearn.over_sampling import RandomOverSampler as ROS\n",
    "from imblearn.under_sampling import RandomUnderSampler as RUS\n",
    "from imblearn.over_sampling import SMOTE\n",
    "\n",
    "from sklearn.model_selection import train_test_split"
   ]
  },
  {
   "cell_type": "code",
   "execution_count": 18,
   "id": "d1b0a8c1",
   "metadata": {},
   "outputs": [],
   "source": [
    "X = data.drop(columns=['DATE_DIED', 'DEATH'])\n",
    "y = data['DEATH']"
   ]
  },
  {
   "cell_type": "code",
   "execution_count": 19,
   "id": "d58573c6",
   "metadata": {},
   "outputs": [],
   "source": [
    "X_train, X_test, y_train , y_test = train_test_split(X, y, test_size=0.35)"
   ]
  },
  {
   "cell_type": "code",
   "execution_count": 20,
   "id": "3583dc76",
   "metadata": {},
   "outputs": [
    {
     "data": {
      "text/plain": [
       "((666348, 18), (666348,))"
      ]
     },
     "execution_count": 20,
     "metadata": {},
     "output_type": "execute_result"
    }
   ],
   "source": [
    "X_train.shape, y_train.shape "
   ]
  },
  {
   "cell_type": "code",
   "execution_count": 21,
   "id": "783f5146",
   "metadata": {},
   "outputs": [
    {
     "data": {
      "text/plain": [
       "((358804, 18), (358804,))"
      ]
     },
     "execution_count": 21,
     "metadata": {},
     "output_type": "execute_result"
    }
   ],
   "source": [
    "X_test.shape, y_test.shape"
   ]
  },
  {
   "cell_type": "code",
   "execution_count": 22,
   "id": "8d9b83a2",
   "metadata": {},
   "outputs": [
    {
     "data": {
      "text/plain": [
       "(0.9273877913642721, 0.07261220863572788)"
      ]
     },
     "execution_count": 22,
     "metadata": {},
     "output_type": "execute_result"
    }
   ],
   "source": [
    "(y_train==0).sum()/y_train.shape[0], (y_train==1).sum()/y_train.shape[0]"
   ]
  },
  {
   "cell_type": "code",
   "execution_count": 23,
   "id": "9e7f8686",
   "metadata": {},
   "outputs": [],
   "source": [
    "ros = ROS(sampling_strategy=2/4)\n",
    "X_train_ros, y_train_ros = ros.fit_resample(X=X_train, y=y_train)"
   ]
  },
  {
   "cell_type": "code",
   "execution_count": 24,
   "id": "a3a0c908",
   "metadata": {},
   "outputs": [],
   "source": [
    "rus = RUS(sampling_strategy=2/4)\n",
    "X_train_rus, y_train_rus = rus.fit_resample(X=X_train, y=y_train)"
   ]
  },
  {
   "cell_type": "code",
   "execution_count": 25,
   "id": "a67a3543",
   "metadata": {},
   "outputs": [],
   "source": [
    "smote = SMOTE(k_neighbors=7, sampling_strategy=2/4)\n",
    "X_train_smote, y_train_smote = smote.fit_resample(X=X_train, y=y_train)"
   ]
  },
  {
   "cell_type": "code",
   "execution_count": 26,
   "id": "3f95edfa",
   "metadata": {},
   "outputs": [
    {
     "data": {
      "text/plain": [
       "(0.6666670262712742, 0.3333329737287258)"
      ]
     },
     "execution_count": 26,
     "metadata": {},
     "output_type": "execute_result"
    }
   ],
   "source": [
    "(y_train_ros==0).sum()/y_train_ros.shape[0], (y_train_ros==1).sum()/y_train_ros.shape[0]"
   ]
  },
  {
   "cell_type": "code",
   "execution_count": 27,
   "id": "0ef24914",
   "metadata": {},
   "outputs": [
    {
     "data": {
      "text/plain": [
       "(0.6666666666666666, 0.3333333333333333)"
      ]
     },
     "execution_count": 27,
     "metadata": {},
     "output_type": "execute_result"
    }
   ],
   "source": [
    "(y_train_rus==0).sum()/y_train_rus.shape[0], (y_train_rus==1).sum()/y_train_rus.shape[0]"
   ]
  },
  {
   "cell_type": "code",
   "execution_count": 28,
   "id": "de7b04be",
   "metadata": {},
   "outputs": [
    {
     "data": {
      "text/plain": [
       "(0.6666670262712742, 0.3333329737287258)"
      ]
     },
     "execution_count": 28,
     "metadata": {},
     "output_type": "execute_result"
    }
   ],
   "source": [
    "(y_train_smote==0).sum()/y_train_smote.shape[0], (y_train_smote==1).sum()/y_train_smote.shape[0]"
   ]
  },
  {
   "cell_type": "code",
   "execution_count": 29,
   "id": "689e7bb9",
   "metadata": {},
   "outputs": [
    {
     "data": {
      "text/plain": [
       "((926944,), (926944,))"
      ]
     },
     "execution_count": 29,
     "metadata": {},
     "output_type": "execute_result"
    }
   ],
   "source": [
    "y_train_ros.shape, y_train_smote.shape"
   ]
  },
  {
   "cell_type": "code",
   "execution_count": 30,
   "id": "53cf0d51",
   "metadata": {},
   "outputs": [
    {
     "data": {
      "text/plain": [
       "(145155,)"
      ]
     },
     "execution_count": 30,
     "metadata": {},
     "output_type": "execute_result"
    }
   ],
   "source": [
    "y_train_rus.shape"
   ]
  },
  {
   "cell_type": "code",
   "execution_count": 31,
   "id": "767b453b",
   "metadata": {},
   "outputs": [],
   "source": [
    "from sklearn.ensemble import RandomForestClassifier as RFC\n",
    "from sklearn.ensemble import AdaBoostClassifier as ABC\n",
    "\n",
    "from sklearn.metrics import accuracy_score, f1_score\n",
    "from sklearn.metrics import recall_score, precision_score"
   ]
  },
  {
   "cell_type": "code",
   "execution_count": null,
   "id": "35d910a0",
   "metadata": {},
   "outputs": [],
   "source": []
  },
  {
   "cell_type": "code",
   "execution_count": 32,
   "id": "56dd931d",
   "metadata": {},
   "outputs": [
    {
     "name": "stdout",
     "output_type": "stream",
     "text": [
      "ACC =  0.9437854650449827\n",
      "f1 =  0.5809963022975612\n",
      "rec =  0.531125375061719\n",
      "pre =  0.6412031730019717\n"
     ]
    }
   ],
   "source": [
    "clf1 = RFC(n_estimators=20, criterion='gini').fit(X=X_train, y=y_train)\n",
    "\n",
    "print('ACC = ', accuracy_score(y_true=y_test, y_pred=clf1.predict(X_test)))\n",
    "print('f1 = ', f1_score(y_true=y_test, y_pred=clf1.predict(X_test)))\n",
    "print('rec = ', recall_score(y_true=y_test, y_pred=clf1.predict(X_test)))\n",
    "print('pre = ', precision_score(y_true=y_test, y_pred=clf1.predict(X_test)))"
   ]
  },
  {
   "cell_type": "code",
   "execution_count": 33,
   "id": "0207f105",
   "metadata": {},
   "outputs": [
    {
     "name": "stdout",
     "output_type": "stream",
     "text": [
      "ACC =  0.925675299049063\n",
      "f1 =  0.5851662881498305\n",
      "rec =  0.7143833795434692\n",
      "pre =  0.4955344205284928\n"
     ]
    }
   ],
   "source": [
    "clf2 = RFC(n_estimators=20, criterion='gini').fit(X=X_train_ros, y=y_train_ros)\n",
    "\n",
    "print('ACC = ', accuracy_score(y_true=y_test, y_pred=clf2.predict(X_test)))\n",
    "print('f1 = ', f1_score(y_true=y_test, y_pred=clf2.predict(X_test)))\n",
    "print('rec = ', recall_score(y_true=y_test, y_pred=clf2.predict(X_test)))\n",
    "print('pre = ', precision_score(y_true=y_test, y_pred=clf2.predict(X_test)))"
   ]
  },
  {
   "cell_type": "code",
   "execution_count": 34,
   "id": "8e4830a4",
   "metadata": {},
   "outputs": [
    {
     "name": "stdout",
     "output_type": "stream",
     "text": [
      "ACC =  0.9077267811953044\n",
      "f1 =  0.5762230243452884\n",
      "rec =  0.8549128337574537\n",
      "pre =  0.4345618472112284\n"
     ]
    }
   ],
   "source": [
    "clf3 = RFC(n_estimators=20, criterion='gini').fit(X=X_train_rus, y=y_train_rus)\n",
    "\n",
    "print('ACC = ', accuracy_score(y_true=y_test, y_pred=clf3.predict(X_test)))\n",
    "print('f1 = ', f1_score(y_true=y_test, y_pred=clf3.predict(X_test)))\n",
    "print('rec = ', recall_score(y_true=y_test, y_pred=clf3.predict(X_test)))\n",
    "print('pre = ', precision_score(y_true=y_test, y_pred=clf3.predict(X_test)))"
   ]
  },
  {
   "cell_type": "code",
   "execution_count": 35,
   "id": "2bb6b14d",
   "metadata": {},
   "outputs": [
    {
     "name": "stdout",
     "output_type": "stream",
     "text": [
      "ACC =  0.9330776691452715\n",
      "f1 =  0.5907835986229933\n",
      "rec =  0.6583235215921608\n",
      "pre =  0.5358125444372315\n"
     ]
    }
   ],
   "source": [
    "clf4 = RFC(n_estimators=20, criterion='gini').fit(X=X_train_smote, y=y_train_smote)\n",
    "\n",
    "print('ACC = ', accuracy_score(y_true=y_test, y_pred=clf4.predict(X_test)))\n",
    "print('f1 = ', f1_score(y_true=y_test, y_pred=clf4.predict(X_test)))\n",
    "print('rec = ', recall_score(y_true=y_test, y_pred=clf4.predict(X_test)))\n",
    "print('pre = ', precision_score(y_true=y_test, y_pred=clf4.predict(X_test)))"
   ]
  },
  {
   "cell_type": "code",
   "execution_count": 36,
   "id": "29ed6ced",
   "metadata": {},
   "outputs": [
    {
     "name": "stdout",
     "output_type": "stream",
     "text": [
      "ACC =  0.9466198816066711\n",
      "f1 =  0.6008544336771908\n",
      "rec =  0.547533138364541\n",
      "pre =  0.6656815663095678\n"
     ]
    }
   ],
   "source": [
    "clf5 = ABC(n_estimators=20).fit(X=X_train, y=y_train)\n",
    "\n",
    "print('ACC = ', accuracy_score(y_true=y_test, y_pred=clf5.predict(X_test)))\n",
    "print('f1 = ', f1_score(y_true=y_test, y_pred=clf5.predict(X_test)))\n",
    "print('rec = ', recall_score(y_true=y_test, y_pred=clf5.predict(X_test)))\n",
    "print('pre = ', precision_score(y_true=y_test, y_pred=clf5.predict(X_test)))"
   ]
  },
  {
   "cell_type": "code",
   "execution_count": 37,
   "id": "51dc90f5",
   "metadata": {},
   "outputs": [
    {
     "name": "stdout",
     "output_type": "stream",
     "text": [
      "ACC =  0.9183871974671408\n",
      "f1 =  0.6037643938676373\n",
      "rec =  0.8473546279767556\n",
      "pre =  0.46895363013410685\n"
     ]
    }
   ],
   "source": [
    "clf6 = ABC(n_estimators=20).fit(X=X_train_ros, y=y_train_ros)\n",
    "\n",
    "print('ACC = ', accuracy_score(y_true=y_test, y_pred=clf6.predict(X_test)))\n",
    "print('f1 = ', f1_score(y_true=y_test, y_pred=clf6.predict(X_test)))\n",
    "print('rec = ', recall_score(y_true=y_test, y_pred=clf6.predict(X_test)))\n",
    "print('pre = ', precision_score(y_true=y_test, y_pred=clf6.predict(X_test)))"
   ]
  },
  {
   "cell_type": "code",
   "execution_count": 38,
   "id": "95a58058",
   "metadata": {},
   "outputs": [
    {
     "name": "stdout",
     "output_type": "stream",
     "text": [
      "ACC =  0.917099586403719\n",
      "f1 =  0.6007650493255486\n",
      "rec =  0.85001329332675\n",
      "pre =  0.464546662238459\n"
     ]
    }
   ],
   "source": [
    "clf7 = ABC(n_estimators=20).fit(X=X_train_rus, y=y_train_rus)\n",
    "\n",
    "print('ACC = ', accuracy_score(y_true=y_test, y_pred=clf7.predict(X_test)))\n",
    "print('f1 = ', f1_score(y_true=y_test, y_pred=clf7.predict(X_test)))\n",
    "print('rec = ', recall_score(y_true=y_test, y_pred=clf7.predict(X_test)))\n",
    "print('pre = ', precision_score(y_true=y_test, y_pred=clf7.predict(X_test)))"
   ]
  },
  {
   "cell_type": "code",
   "execution_count": 39,
   "id": "83f37475",
   "metadata": {},
   "outputs": [
    {
     "name": "stdout",
     "output_type": "stream",
     "text": [
      "ACC =  0.9217706603047904\n",
      "f1 =  0.6050124537382323\n",
      "rec =  0.8164761289832504\n",
      "pre =  0.48055170563776994\n"
     ]
    }
   ],
   "source": [
    "clf8 = ABC(n_estimators=20).fit(X=X_train_smote, y=y_train_smote)\n",
    "\n",
    "print('ACC = ', accuracy_score(y_true=y_test, y_pred=clf8.predict(X_test)))\n",
    "print('f1 = ', f1_score(y_true=y_test, y_pred=clf8.predict(X_test)))\n",
    "print('rec = ', recall_score(y_true=y_test, y_pred=clf8.predict(X_test)))\n",
    "print('pre = ', precision_score(y_true=y_test, y_pred=clf8.predict(X_test)))"
   ]
  },
  {
   "cell_type": "code",
   "execution_count": null,
   "id": "f81a26d8",
   "metadata": {},
   "outputs": [],
   "source": []
  }
 ],
 "metadata": {
  "kernelspec": {
   "display_name": "Python 3 (ipykernel)",
   "language": "python",
   "name": "python3"
  },
  "language_info": {
   "codemirror_mode": {
    "name": "ipython",
    "version": 3
   },
   "file_extension": ".py",
   "mimetype": "text/x-python",
   "name": "python",
   "nbconvert_exporter": "python",
   "pygments_lexer": "ipython3",
   "version": "3.10.6"
  }
 },
 "nbformat": 4,
 "nbformat_minor": 5
}
